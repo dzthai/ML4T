{
  "nbformat": 4,
  "nbformat_minor": 0,
  "metadata": {
    "colab": {
      "provenance": [],
      "authorship_tag": "ABX9TyPkYvgMhxwIA68mvG3fIMSs",
      "include_colab_link": true
    },
    "kernelspec": {
      "name": "python3",
      "display_name": "Python 3"
    },
    "language_info": {
      "name": "python"
    }
  },
  "cells": [
    {
      "cell_type": "markdown",
      "metadata": {
        "id": "view-in-github",
        "colab_type": "text"
      },
      "source": [
        "<a href=\"https://colab.research.google.com/github/dzthai/ML4T/blob/main/Probability.ipynb\" target=\"_parent\"><img src=\"https://colab.research.google.com/assets/colab-badge.svg\" alt=\"Open In Colab\"/></a>"
      ]
    },
    {
      "cell_type": "code",
      "execution_count": null,
      "metadata": {
        "id": "DyV05T-kBaPf"
      },
      "outputs": [],
      "source": []
    },
    {
      "cell_type": "markdown",
      "source": [
        "Basics\n",
        "\n",
        "\n",
        "Condtional probability:\n",
        "- Bayes rule: P(A | B) = P(B | A) P(A) / P(B)\n",
        "\n",
        "Law of total probability:\n",
        "- P(A) + P(B) + ... + P(X) = 1\n",
        "\n",
        "Counting:\n",
        "If order of selection of the n items being counted k at a time matters, then permutations is n! / (n-k!)\n",
        "\n",
        "If order of selection does not matter then it's n choose k,\n",
        "n! / k! (n- k)!\n",
        "\n",
        "\n",
        "Random variables:\n",
        "- quantity associated with a probability distribution\n",
        "- discrete/ continuous\n",
        "- discrete random variable = probability mass function (PMF)\n",
        "  - uses sum\n",
        "- continuous is probability density function (PDF)\n",
        "  - uses integral\n",
        "- Cumulative distribution function Fx(x) = P(X <= x)\n",
        "- CDF is given by this for discrete Fx(x) = SUM(p(k)) whereas for CDF it's Fx(x) = integral p(y) dy\n",
        "\n",
        "Joint, marginal and conditional probability distributions\n",
        "-"
      ],
      "metadata": {
        "id": "8RcGh-gfBqrf"
      }
    }
  ]
}