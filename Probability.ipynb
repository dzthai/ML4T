{
  "nbformat": 4,
  "nbformat_minor": 0,
  "metadata": {
    "colab": {
      "provenance": [],
      "authorship_tag": "ABX9TyNm4SM/GqOzh88eUCWAKKk/",
      "include_colab_link": true
    },
    "kernelspec": {
      "name": "python3",
      "display_name": "Python 3"
    },
    "language_info": {
      "name": "python"
    }
  },
  "cells": [
    {
      "cell_type": "markdown",
      "metadata": {
        "id": "view-in-github",
        "colab_type": "text"
      },
      "source": [
        "<a href=\"https://colab.research.google.com/github/dzthai/ML4T/blob/main/Probability.ipynb\" target=\"_parent\"><img src=\"https://colab.research.google.com/assets/colab-badge.svg\" alt=\"Open In Colab\"/></a>"
      ]
    },
    {
      "cell_type": "code",
      "execution_count": null,
      "metadata": {
        "id": "DyV05T-kBaPf"
      },
      "outputs": [],
      "source": []
    },
    {
      "cell_type": "markdown",
      "source": [
        "Basics\n",
        "\n",
        "\n",
        "Condtional probability:\n",
        "- Bayes rule: P(A | B) = P(B | A) P(A) / P(B)\n",
        "\n",
        "Law of total probability:\n",
        "- P(A) + P(B) + ... + P(X) = 1\n",
        "\n",
        "Counting:\n",
        "If order of selection of the n items being counted k at a time matters, then permutations is n! / (n-k!)\n",
        "\n",
        "If order of selection does not matter then it's n choose k,\n",
        "n! / k! (n- k)!\n",
        "\n",
        "\n",
        "Random variables:\n",
        "- quantity associated with a probability distribution\n",
        "- discrete/ continuous\n",
        "- discrete random variable = probability mass function (PMF)\n",
        "  - uses sum\n",
        "- continuous is probability density function (PDF)\n",
        "  - uses integral\n",
        "- Cumulative distribution function Fx(x) = P(X <= x)\n",
        "- CDF is given by this for discrete Fx(x) = SUM(p(k)) whereas for CDF it's Fx(x) = integral p(y) dy\n",
        "\n",
        "Joint, marginal and conditional probability distributions\n",
        "- RV’s are observed alongside others creatning joint PMF’s or joint PDF’s\n",
        "- Integration of joint PDF’s is double integral of the probability function -> f(x, y) dx dy\n",
        "    - To get the marginal probability for Y, we integrate out the X term in f(x,y)\n",
        "- You can even apply Bayes rule here\n",
        "\n",
        "\n",
        "Probability Distributions\n",
        "- Discrete probability distributions\n",
        "    - The binomial distribution is the probability of k successes in n independent trails\n",
        "        - PMF is P(X = k) = (n choose k) * p^ k * (1 - p) ^ n-k\n",
        "        - Mean is np and variance is np(1-p) <- how do you derive this again? I remember this from Math 180A\n",
        "        - Most commonly seen with coin flips and any situation where the result is binary\n",
        "    - Poisson distribution is number of events occurring within a fixed interval where the known constant rate of event’s occurrence is lambda\n",
        "        - P(X = k) = e^-lambda * lambda ^ k / k!\n",
        "        - Mean is lambda, variance is also lambda\n",
        "- Continuous probability distributions\n",
        "    - Uniform distribution is probability of X falling between interval a to b\n",
        "        - Mean is mu = a + b / 2 and variance is (b- a) ^ 2 / 12\n",
        "        - Most commonly seen with sampling and hypothesis testing cases\n",
        "    - Exponential distribution\n",
        "        - Probability of interval length between events of a Poisson process\n",
        "        - Commonly seen in wait times\n",
        "    - Normal distribution\n",
        "        - Central limit theorem\n",
        "    - Markov chains\n",
        "        - Process in which there is a finite set of states and probability of being in a particular state is only dependent on previous state.\n",
        "        - Markov property is given current state, the past and future states it will occupy are conditionally independent\n",
        "        - Transition matrix\n"
      ],
      "metadata": {
        "id": "8RcGh-gfBqrf"
      }
    }
  ]
}