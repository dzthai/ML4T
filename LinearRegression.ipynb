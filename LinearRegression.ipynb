{
  "nbformat": 4,
  "nbformat_minor": 0,
  "metadata": {
    "colab": {
      "provenance": [],
      "authorship_tag": "ABX9TyNVr2yPYAH2/VkPz03GRhdy",
      "include_colab_link": true
    },
    "kernelspec": {
      "name": "python3",
      "display_name": "Python 3"
    },
    "language_info": {
      "name": "python"
    }
  },
  "cells": [
    {
      "cell_type": "markdown",
      "metadata": {
        "id": "view-in-github",
        "colab_type": "text"
      },
      "source": [
        "<a href=\"https://colab.research.google.com/github/dzthai/ML4T/blob/main/LinearRegression.ipynb\" target=\"_parent\"><img src=\"https://colab.research.google.com/assets/colab-badge.svg\" alt=\"Open In Colab\"/></a>"
      ]
    },
    {
      "cell_type": "markdown",
      "source": [
        "This is the linear regression chapter of the \"Machine Learning for Algorithmic Trading\" textbook that I am reading.\n",
        "\n",
        "Here are some notes as I read through:\n",
        "\n",
        "The goal of this chapter is to:\n",
        "- summarize how linear regression works and what assumptions are made\n",
        "- Train and diagnose linear regression models\n",
        "- use linear regression in stock price prediction\n",
        "- Use regulariztion to fine tune predictive performance\n",
        "\n",
        "\n",
        "\n",
        "Linear regression assumes output is result of a linear combination of inoputs. Assumes random error also occurs that allows deviation from linear relationship. Source of error could also be from"
      ],
      "metadata": {
        "id": "49XlDQvezkNn"
      }
    },
    {
      "cell_type": "code",
      "source": [],
      "metadata": {
        "id": "Gud7NAXuzoo6"
      },
      "execution_count": null,
      "outputs": []
    }
  ]
}