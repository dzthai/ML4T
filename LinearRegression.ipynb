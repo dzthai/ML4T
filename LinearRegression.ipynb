{
  "nbformat": 4,
  "nbformat_minor": 0,
  "metadata": {
    "colab": {
      "provenance": [],
      "authorship_tag": "ABX9TyM/SBlnboH9TDatRqPiElGq",
      "include_colab_link": true
    },
    "kernelspec": {
      "name": "python3",
      "display_name": "Python 3"
    },
    "language_info": {
      "name": "python"
    }
  },
  "cells": [
    {
      "cell_type": "markdown",
      "metadata": {
        "id": "view-in-github",
        "colab_type": "text"
      },
      "source": [
        "<a href=\"https://colab.research.google.com/github/dzthai/ML4T/blob/main/LinearRegression.ipynb\" target=\"_parent\"><img src=\"https://colab.research.google.com/assets/colab-badge.svg\" alt=\"Open In Colab\"/></a>"
      ]
    },
    {
      "cell_type": "markdown",
      "source": [
        "This is the linear regression chapter of the \"Machine Learning for Algorithmic Trading\" textbook that I am reading.\n",
        "\n",
        "Here are some notes as I read through:\n",
        "\n",
        "The goal of this chapter is to:\n",
        "- summarize how linear regression works and what assumptions are made\n",
        "- Train and diagnose linear regression models\n",
        "- use linear regression in stock price prediction\n",
        "- Use regulariztion to fine tune predictive performance\n",
        "\n",
        "\n",
        "\n",
        "Linear regression assumes output is result of a linear combination of inoputs. Assumes random error also occurs that allows deviation from linear relationship. Source of error could also be from limitations of complexity.\n",
        "\n",
        "Also assumes events are indepdent and identically distributed (IID).\n",
        "\n",
        "Regularization (Shrinkage) applies a penalty term to linear objective function. This is to prevent the model from learning biased parameters.\n",
        "\n",
        "\n",
        "Baseline model - multiple linear regression\n",
        "- Multiple linear regression model defines a linear functional relationship between one continuous outcome variable and p input variables\n",
        "\n",
        "\n",
        "Given input vector X and error E, then expect output y:\n",
        "y = f(X) + E (including static coefficients)\n",
        "\n",
        "The value of each coefficient is partial average effect of the variable Xi on the output.\n",
        "\n",
        "\n"
      ],
      "metadata": {
        "id": "49XlDQvezkNn"
      }
    },
    {
      "cell_type": "code",
      "source": [],
      "metadata": {
        "id": "Gud7NAXuzoo6"
      },
      "execution_count": null,
      "outputs": []
    },
    {
      "cell_type": "markdown",
      "source": [
        "Model Training\n",
        "------------------\n",
        "\n",
        "Ordinary least squares:\n",
        "- learns parameters of hyperplane that best approximates output from input  data\n",
        "- Takes aproximation"
      ],
      "metadata": {
        "id": "dGxiLGbXFe1P"
      }
    }
  ]
}